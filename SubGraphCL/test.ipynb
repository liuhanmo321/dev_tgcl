{
 "cells": [
  {
   "cell_type": "code",
   "execution_count": 1,
   "metadata": {},
   "outputs": [
    {
     "name": "stderr",
     "output_type": "stream",
     "text": [
      "Downloading https://docs.google.com/uc?export=download&id=1Juwx8HtDwSzmVIJ31ooVa1WljI4U5JnA&confirm=t\n",
      "Downloading https://docs.google.com/uc?export=download&id=1Zy6BZH_zLEjKlEFSduKE5tV9qqA_8VtM&confirm=t\n",
      "Downloading https://docs.google.com/uc?export=download&id=1VUcBGr0T0-klqerjAjxRmAqFuld_SMWU&confirm=t\n",
      "Downloading https://docs.google.com/uc?export=download&id=1NI5pa5Chpd-52eSmLW60OnB3WS5ikxq_&confirm=t\n",
      "Processing...\n",
      "Done!\n"
     ]
    },
    {
     "data": {
      "text/plain": [
       "Yelp()"
      ]
     },
     "execution_count": 1,
     "metadata": {},
     "output_type": "execute_result"
    }
   ],
   "source": [
    "import torch_geometric\n",
    "\n",
    "from torch_geometric.datasets import Yelp\n",
    "\n",
    "dataset = Yelp(root='./OTGNet/process_raw_data/yelp/', transform=None)\n",
    "\n",
    "dataset"
   ]
  },
  {
   "cell_type": "code",
   "execution_count": 1,
   "metadata": {},
   "outputs": [],
   "source": [
    "import torch"
   ]
  },
  {
   "cell_type": "code",
   "execution_count": 2,
   "metadata": {},
   "outputs": [
    {
     "data": {
      "text/plain": [
       "tensor([[ True, False, False, False, False],\n",
       "        [ True,  True, False, False, False],\n",
       "        [ True,  True,  True, False, False],\n",
       "        [ True,  True,  True,  True, False],\n",
       "        [ True,  True,  True,  True,  True]])"
      ]
     },
     "execution_count": 2,
     "metadata": {},
     "output_type": "execute_result"
    }
   ],
   "source": [
    "eye = torch.tril(torch.ones((5, 5))).bool()\n",
    "eye"
   ]
  },
  {
   "cell_type": "code",
   "execution_count": 4,
   "metadata": {},
   "outputs": [
    {
     "data": {
      "text/plain": [
       "tensor([[0, 1, 2],\n",
       "        [0, 1, 2],\n",
       "        [0, 1, 2],\n",
       "        [0, 1, 2],\n",
       "        [0, 1, 2]])"
      ]
     },
     "execution_count": 4,
     "metadata": {},
     "output_type": "execute_result"
    }
   ],
   "source": [
    "pred = torch.tensor([[0, 1, 2, 3, 4], [0, 1, 2, 3, 4], [0, 1, 2, 3, 4], [0, 1, 2, 3, 4], [0, 1, 2, 3, 4]])\n",
    "\n",
    "temp_eye = eye[2]\n",
    "\n",
    "pred[:, temp_eye]"
   ]
  },
  {
   "cell_type": "code",
   "execution_count": 7,
   "metadata": {},
   "outputs": [
    {
     "name": "stdout",
     "output_type": "stream",
     "text": [
      "tensor([2, 3, 4, 5, 6, 7, 8, 9, 0, 1])\n",
      "tensor([7, 6, 5, 4, 3, 2, 1, 0, 9, 8])\n"
     ]
    },
    {
     "data": {
      "text/plain": [
       "tensor([101, 102, 103, 104, 105, 106, 107, 108, 109, 110])"
      ]
     },
     "execution_count": 7,
     "metadata": {},
     "output_type": "execute_result"
    }
   ],
   "source": [
    "a = torch.tensor([1,2,3,4,5,6,7,8,9,10]) + 100\n",
    "a_idx = torch.tensor([1,2,3,4,5,6,7,8,9,10]) - 1\n",
    "\n",
    "b = torch.tensor([3,4,5,6,7,8,9,10,1,2]) + 100\n",
    "b_idx = torch.tensor([3,4,5,6,7,8,9,10,1,2]) - 1\n",
    "\n",
    "print(b_idx)\n",
    "b_rev_idx = len(b_idx) - b_idx - 1\n",
    "print(b_rev_idx)\n",
    "reverse_idx = torch.arange(len(b_idx) - 1, -1, -1).long()\n",
    "b[b_rev_idx][reverse_idx]"
   ]
  },
  {
   "cell_type": "code",
   "execution_count": 3,
   "metadata": {},
   "outputs": [
    {
     "data": {
      "text/plain": [
       "tensor([101, 102,   3,   4,   5,   6])"
      ]
     },
     "execution_count": 3,
     "metadata": {},
     "output_type": "execute_result"
    }
   ],
   "source": [
    "a = torch.tensor([1, 2, 3, 4, 5, 6])\n",
    "\n",
    "mask = (a >= 1) & (a < 3)\n",
    "\n",
    "a[mask] = a[mask] + 100\n",
    "\n",
    "a"
   ]
  },
  {
   "cell_type": "code",
   "execution_count": 4,
   "metadata": {},
   "outputs": [
    {
     "data": {
      "text/plain": [
       "tensor(27.)"
      ]
     },
     "execution_count": 4,
     "metadata": {},
     "output_type": "execute_result"
    }
   ],
   "source": [
    "import numpy as np\n",
    "import torch\n",
    "\n",
    "a = np.array([[1,2,3,4,5], \n",
    "             [3,2,1,4,2]])\n",
    "\n",
    "a = torch.tensor(a, dtype=torch.float32)\n",
    "\n",
    "l1_reg = torch.abs(a).sum()\n",
    "\n",
    "\n",
    "l1_reg\n",
    "\n",
    "\n",
    "# mask = a > 3\n",
    "\n",
    "# print(mask)\n",
    "# a[mask]=0\n",
    "# a"
   ]
  },
  {
   "cell_type": "code",
   "execution_count": 22,
   "metadata": {},
   "outputs": [
    {
     "name": "stdout",
     "output_type": "stream",
     "text": [
      "torch.Size([5, 1, 3])\n",
      "torch.Size([5, 4, 3])\n",
      "torch.Size([5, 4, 3])\n",
      "tensor([[[-2.0372e-01, -6.6681e-01,  2.4574e+00],\n",
      "         [ 4.6415e-01,  7.6835e-01, -9.2943e-01],\n",
      "         [-1.2293e-01,  6.8633e-01, -3.4202e+00],\n",
      "         [ 6.3812e-01, -3.4149e+00, -1.7023e+00]],\n",
      "\n",
      "        [[-1.0973e-03, -7.9791e-01,  2.2365e+00],\n",
      "         [ 2.2072e-01, -3.4932e-01, -1.6873e+00],\n",
      "         [-5.9466e-02, -1.2966e-02, -2.2481e-01],\n",
      "         [ 4.3301e-01, -2.2759e-01, -1.1386e+00]],\n",
      "\n",
      "        [[ 2.2595e-03, -1.3167e+00,  9.5730e-01],\n",
      "         [-1.1677e-02,  1.7354e-01, -5.5296e-01],\n",
      "         [ 1.3378e-02, -7.0711e-01,  7.5010e-01],\n",
      "         [ 2.0156e-02, -1.0380e+00,  5.6850e-01]],\n",
      "\n",
      "        [[ 1.1295e-01,  2.4097e-01,  5.6424e-03],\n",
      "         [ 1.0524e-03, -5.0536e-02,  2.9161e-03],\n",
      "         [ 4.7205e-02, -6.6487e-02,  5.8697e-02],\n",
      "         [-7.9732e-02, -1.5692e-01,  5.6225e-02]],\n",
      "\n",
      "        [[-2.7137e-01, -4.4579e-01, -3.2774e-02],\n",
      "         [-2.3994e-03, -6.8243e-01, -2.1777e-01],\n",
      "         [ 1.3688e-01, -1.2189e-01, -1.3649e-01],\n",
      "         [-4.6825e-02,  3.1640e-01,  2.6467e-02]]])\n"
     ]
    },
    {
     "data": {
      "text/plain": [
       "torch.Size([5, 4])"
      ]
     },
     "execution_count": 22,
     "metadata": {},
     "output_type": "execute_result"
    }
   ],
   "source": [
    "import torch\n",
    "\n",
    "a = torch.tensor([[1,2,3,4,5],\n",
    "             [3,2,1,4,2]])\n",
    "\n",
    "a = torch.randn(5, 3)\n",
    "\n",
    "b = torch.randn(5, 4, 3)\n",
    "\n",
    "a = a.unsqueeze(1)\n",
    "print(a.shape)\n",
    "a = a.repeat(1, 4, 1)\n",
    "print(a.shape)\n",
    "# b = torch.tensor([[1,2,3,4,5]])\n",
    "prd = a * b\n",
    "# prd = torch.inner(b, a)\n",
    "print(prd.shape)\n",
    "print(prd)\n",
    "sum_prd = torch.sum(prd, dim=2)\n",
    "sum_prd.shape"
   ]
  },
  {
   "cell_type": "code",
   "execution_count": 25,
   "metadata": {},
   "outputs": [
    {
     "data": {
      "text/plain": [
       "torch.Size([5, 3])"
      ]
     },
     "execution_count": 25,
     "metadata": {},
     "output_type": "execute_result"
    }
   ],
   "source": [
    "a = torch.randn(5, 3)\n",
    "\n",
    "b = torch.randn(5, 3)\n",
    "\n",
    "(a * b).shape"
   ]
  }
 ],
 "metadata": {
  "kernelspec": {
   "display_name": "base",
   "language": "python",
   "name": "python3"
  },
  "language_info": {
   "codemirror_mode": {
    "name": "ipython",
    "version": 3
   },
   "file_extension": ".py",
   "mimetype": "text/x-python",
   "name": "python",
   "nbconvert_exporter": "python",
   "pygments_lexer": "ipython3",
   "version": "3.9.16"
  },
  "orig_nbformat": 4
 },
 "nbformat": 4,
 "nbformat_minor": 2
}
