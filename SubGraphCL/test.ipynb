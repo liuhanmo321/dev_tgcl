{
 "cells": [
  {
   "cell_type": "code",
   "execution_count": 1,
   "metadata": {},
   "outputs": [
    {
     "name": "stderr",
     "output_type": "stream",
     "text": [
      "Downloading https://docs.google.com/uc?export=download&id=1Juwx8HtDwSzmVIJ31ooVa1WljI4U5JnA&confirm=t\n",
      "Downloading https://docs.google.com/uc?export=download&id=1Zy6BZH_zLEjKlEFSduKE5tV9qqA_8VtM&confirm=t\n",
      "Downloading https://docs.google.com/uc?export=download&id=1VUcBGr0T0-klqerjAjxRmAqFuld_SMWU&confirm=t\n",
      "Downloading https://docs.google.com/uc?export=download&id=1NI5pa5Chpd-52eSmLW60OnB3WS5ikxq_&confirm=t\n",
      "Processing...\n",
      "Done!\n"
     ]
    },
    {
     "data": {
      "text/plain": [
       "Yelp()"
      ]
     },
     "execution_count": 1,
     "metadata": {},
     "output_type": "execute_result"
    }
   ],
   "source": [
    "import torch_geometric\n",
    "\n",
    "from torch_geometric.datasets import Yelp\n",
    "\n",
    "dataset = Yelp(root='./OTGNet/process_raw_data/yelp/', transform=None)\n",
    "\n",
    "dataset"
   ]
  },
  {
   "cell_type": "code",
   "execution_count": 3,
   "metadata": {},
   "outputs": [
    {
     "name": "stderr",
     "output_type": "stream",
     "text": [
      "Failed to detect the name of this notebook, you can set it manually with the WANDB_NOTEBOOK_NAME environment variable to enable code saving.\n",
      "\u001b[34m\u001b[1mwandb\u001b[0m: Logging into wandb.ai. (Learn how to deploy a W&B server locally: https://wandb.me/wandb-server)\n",
      "\u001b[34m\u001b[1mwandb\u001b[0m: You can find your API key in your browser here: https://wandb.ai/authorize\n",
      "\u001b[34m\u001b[1mwandb\u001b[0m: Paste an API key from your profile and hit enter, or press ctrl+c to quit:\u001b[34m\u001b[1mwandb\u001b[0m: Paste an API key from your profile and hit enter, or press ctrl+c to quit:\u001b[34m\u001b[1mwandb\u001b[0m: Appending key for api.wandb.ai to your netrc file: /homes/hliubm/.netrc\n"
     ]
    },
    {
     "data": {
      "text/plain": [
       "True"
      ]
     },
     "execution_count": 3,
     "metadata": {},
     "output_type": "execute_result"
    }
   ],
   "source": [
    "# login to wandb\n",
    "import wandb\n",
    "wandb.login()\n"
   ]
  },
  {
   "cell_type": "code",
   "execution_count": 4,
   "metadata": {},
   "outputs": [
    {
     "name": "stderr",
     "output_type": "stream",
     "text": [
      "\u001b[34m\u001b[1mwandb\u001b[0m: Currently logged in as: \u001b[33mhammerlhm\u001b[0m. Use \u001b[1m`wandb login --relogin`\u001b[0m to force relogin\n"
     ]
    },
    {
     "data": {
      "text/html": [
       "Tracking run with wandb version 0.16.5"
      ],
      "text/plain": [
       "<IPython.core.display.HTML object>"
      ]
     },
     "metadata": {},
     "output_type": "display_data"
    },
    {
     "data": {
      "text/html": [
       "Run data is saved locally in <code>/export/data/hliubm/gcl/tgcl/SubGraphCL/wandb/run-20240329_121552-9b6srfua</code>"
      ],
      "text/plain": [
       "<IPython.core.display.HTML object>"
      ]
     },
     "metadata": {},
     "output_type": "display_data"
    },
    {
     "data": {
      "text/html": [
       "Syncing run <strong><a href='https://wandb.ai/hammerlhm/Temporal%20Graph%20Continual%20Learning/runs/9b6srfua/workspace' target=\"_blank\">easy-oath-1</a></strong> to <a href='https://wandb.ai/hammerlhm/Temporal%20Graph%20Continual%20Learning' target=\"_blank\">Weights & Biases</a> (<a href='https://wandb.me/run' target=\"_blank\">docs</a>)<br/>"
      ],
      "text/plain": [
       "<IPython.core.display.HTML object>"
      ]
     },
     "metadata": {},
     "output_type": "display_data"
    },
    {
     "data": {
      "text/html": [
       " View project at <a href='https://wandb.ai/hammerlhm/Temporal%20Graph%20Continual%20Learning' target=\"_blank\">https://wandb.ai/hammerlhm/Temporal%20Graph%20Continual%20Learning</a>"
      ],
      "text/plain": [
       "<IPython.core.display.HTML object>"
      ]
     },
     "metadata": {},
     "output_type": "display_data"
    },
    {
     "data": {
      "text/html": [
       " View run at <a href='https://wandb.ai/hammerlhm/Temporal%20Graph%20Continual%20Learning/runs/9b6srfua/workspace' target=\"_blank\">https://wandb.ai/hammerlhm/Temporal%20Graph%20Continual%20Learning/runs/9b6srfua/workspace</a>"
      ],
      "text/plain": [
       "<IPython.core.display.HTML object>"
      ]
     },
     "metadata": {},
     "output_type": "display_data"
    },
    {
     "data": {
      "text/html": [
       "<style>\n",
       "    table.wandb td:nth-child(1) { padding: 0 10px; text-align: left ; width: auto;} td:nth-child(2) {text-align: left ; width: 100%}\n",
       "    .wandb-row { display: flex; flex-direction: row; flex-wrap: wrap; justify-content: flex-start; width: 100% }\n",
       "    .wandb-col { display: flex; flex-direction: column; flex-basis: 100%; flex: 1; padding: 10px; }\n",
       "    </style>\n",
       "<div class=\"wandb-row\"><div class=\"wandb-col\"><h3>Run history:</h3><br/><table class=\"wandb\"><tr><td>acc</td><td>▁▄▆▇▇▇█▇</td></tr><tr><td>loss</td><td>█▅▅▃▁▁▂▁</td></tr></table><br/></div><div class=\"wandb-col\"><h3>Run summary:</h3><br/><table class=\"wandb\"><tr><td>acc</td><td>0.69699</td></tr><tr><td>loss</td><td>0.195</td></tr></table><br/></div></div>"
      ],
      "text/plain": [
       "<IPython.core.display.HTML object>"
      ]
     },
     "metadata": {},
     "output_type": "display_data"
    },
    {
     "data": {
      "text/html": [
       " View run <strong style=\"color:#cdcd00\">easy-oath-1</strong> at: <a href='https://wandb.ai/hammerlhm/Temporal%20Graph%20Continual%20Learning/runs/9b6srfua/workspace' target=\"_blank\">https://wandb.ai/hammerlhm/Temporal%20Graph%20Continual%20Learning/runs/9b6srfua/workspace</a><br/>Synced 5 W&B file(s), 0 media file(s), 0 artifact file(s) and 0 other file(s)"
      ],
      "text/plain": [
       "<IPython.core.display.HTML object>"
      ]
     },
     "metadata": {},
     "output_type": "display_data"
    },
    {
     "data": {
      "text/html": [
       "Find logs at: <code>./wandb/run-20240329_121552-9b6srfua/logs</code>"
      ],
      "text/plain": [
       "<IPython.core.display.HTML object>"
      ]
     },
     "metadata": {},
     "output_type": "display_data"
    }
   ],
   "source": [
    "import wandb\n",
    "import random\n",
    "\n",
    "# start a new wandb run to track this script\n",
    "wandb.init(\n",
    "    # set the wandb project where this run will be logged\n",
    "    project=\"Temporal Graph Continual Learning\",\n",
    "\n",
    "    # track hyperparameters and run metadata\n",
    "    config={\n",
    "    \"learning_rate\": 0.02,\n",
    "    \"architecture\": \"CNN\",\n",
    "    \"dataset\": \"CIFAR-100\",\n",
    "    \"epochs\": 10,\n",
    "    }\n",
    ")\n",
    "\n",
    "# simulate training\n",
    "epochs = 10\n",
    "offset = random.random() / 5\n",
    "for epoch in range(2, epochs):\n",
    "    acc = 1 - 2 ** -epoch - random.random() / epoch - offset\n",
    "    loss = 2 ** -epoch + random.random() / epoch + offset\n",
    "\n",
    "    # log metrics to wandb\n",
    "    wandb.log({\"acc\": acc, \"loss\": loss})\n",
    "\n",
    "# [optional] finish the wandb run, necessary in notebooks\n",
    "wandb.finish()"
   ]
  },
  {
   "cell_type": "code",
   "execution_count": 1,
   "metadata": {},
   "outputs": [],
   "source": [
    "import torch"
   ]
  },
  {
   "cell_type": "code",
   "execution_count": 2,
   "metadata": {},
   "outputs": [
    {
     "data": {
      "text/plain": [
       "tensor([[ True, False, False, False, False],\n",
       "        [ True,  True, False, False, False],\n",
       "        [ True,  True,  True, False, False],\n",
       "        [ True,  True,  True,  True, False],\n",
       "        [ True,  True,  True,  True,  True]])"
      ]
     },
     "execution_count": 2,
     "metadata": {},
     "output_type": "execute_result"
    }
   ],
   "source": [
    "eye = torch.tril(torch.ones((5, 5))).bool()\n",
    "eye"
   ]
  },
  {
   "cell_type": "code",
   "execution_count": 4,
   "metadata": {},
   "outputs": [
    {
     "data": {
      "text/plain": [
       "tensor([[0, 1, 2],\n",
       "        [0, 1, 2],\n",
       "        [0, 1, 2],\n",
       "        [0, 1, 2],\n",
       "        [0, 1, 2]])"
      ]
     },
     "execution_count": 4,
     "metadata": {},
     "output_type": "execute_result"
    }
   ],
   "source": [
    "pred = torch.tensor([[0, 1, 2, 3, 4], [0, 1, 2, 3, 4], [0, 1, 2, 3, 4], [0, 1, 2, 3, 4], [0, 1, 2, 3, 4]])\n",
    "\n",
    "temp_eye = eye[2]\n",
    "\n",
    "pred[:, temp_eye]"
   ]
  },
  {
   "cell_type": "code",
   "execution_count": 7,
   "metadata": {},
   "outputs": [
    {
     "name": "stdout",
     "output_type": "stream",
     "text": [
      "tensor([2, 3, 4, 5, 6, 7, 8, 9, 0, 1])\n",
      "tensor([7, 6, 5, 4, 3, 2, 1, 0, 9, 8])\n"
     ]
    },
    {
     "data": {
      "text/plain": [
       "tensor([101, 102, 103, 104, 105, 106, 107, 108, 109, 110])"
      ]
     },
     "execution_count": 7,
     "metadata": {},
     "output_type": "execute_result"
    }
   ],
   "source": [
    "a = torch.tensor([1,2,3,4,5,6,7,8,9,10]) + 100\n",
    "a_idx = torch.tensor([1,2,3,4,5,6,7,8,9,10]) - 1\n",
    "\n",
    "b = torch.tensor([3,4,5,6,7,8,9,10,1,2]) + 100\n",
    "b_idx = torch.tensor([3,4,5,6,7,8,9,10,1,2]) - 1\n",
    "\n",
    "print(b_idx)\n",
    "b_rev_idx = len(b_idx) - b_idx - 1\n",
    "print(b_rev_idx)\n",
    "reverse_idx = torch.arange(len(b_idx) - 1, -1, -1).long()\n",
    "b[b_rev_idx][reverse_idx]"
   ]
  },
  {
   "cell_type": "code",
   "execution_count": 3,
   "metadata": {},
   "outputs": [
    {
     "data": {
      "text/plain": [
       "tensor([101, 102,   3,   4,   5,   6])"
      ]
     },
     "execution_count": 3,
     "metadata": {},
     "output_type": "execute_result"
    }
   ],
   "source": [
    "a = torch.tensor([1, 2, 3, 4, 5, 6])\n",
    "\n",
    "mask = (a >= 1) & (a < 3)\n",
    "\n",
    "a[mask] = a[mask] + 100\n",
    "\n",
    "a"
   ]
  },
  {
   "cell_type": "code",
   "execution_count": 4,
   "metadata": {},
   "outputs": [
    {
     "data": {
      "text/plain": [
       "tensor(27.)"
      ]
     },
     "execution_count": 4,
     "metadata": {},
     "output_type": "execute_result"
    }
   ],
   "source": [
    "import numpy as np\n",
    "import torch\n",
    "\n",
    "a = np.array([[1,2,3,4,5], \n",
    "             [3,2,1,4,2]])\n",
    "\n",
    "a = torch.tensor(a, dtype=torch.float32)\n",
    "\n",
    "l1_reg = torch.abs(a).sum()\n",
    "\n",
    "\n",
    "l1_reg\n",
    "\n",
    "\n",
    "# mask = a > 3\n",
    "\n",
    "# print(mask)\n",
    "# a[mask]=0\n",
    "# a"
   ]
  },
  {
   "cell_type": "code",
   "execution_count": 22,
   "metadata": {},
   "outputs": [
    {
     "name": "stdout",
     "output_type": "stream",
     "text": [
      "torch.Size([5, 1, 3])\n",
      "torch.Size([5, 4, 3])\n",
      "torch.Size([5, 4, 3])\n",
      "tensor([[[-2.0372e-01, -6.6681e-01,  2.4574e+00],\n",
      "         [ 4.6415e-01,  7.6835e-01, -9.2943e-01],\n",
      "         [-1.2293e-01,  6.8633e-01, -3.4202e+00],\n",
      "         [ 6.3812e-01, -3.4149e+00, -1.7023e+00]],\n",
      "\n",
      "        [[-1.0973e-03, -7.9791e-01,  2.2365e+00],\n",
      "         [ 2.2072e-01, -3.4932e-01, -1.6873e+00],\n",
      "         [-5.9466e-02, -1.2966e-02, -2.2481e-01],\n",
      "         [ 4.3301e-01, -2.2759e-01, -1.1386e+00]],\n",
      "\n",
      "        [[ 2.2595e-03, -1.3167e+00,  9.5730e-01],\n",
      "         [-1.1677e-02,  1.7354e-01, -5.5296e-01],\n",
      "         [ 1.3378e-02, -7.0711e-01,  7.5010e-01],\n",
      "         [ 2.0156e-02, -1.0380e+00,  5.6850e-01]],\n",
      "\n",
      "        [[ 1.1295e-01,  2.4097e-01,  5.6424e-03],\n",
      "         [ 1.0524e-03, -5.0536e-02,  2.9161e-03],\n",
      "         [ 4.7205e-02, -6.6487e-02,  5.8697e-02],\n",
      "         [-7.9732e-02, -1.5692e-01,  5.6225e-02]],\n",
      "\n",
      "        [[-2.7137e-01, -4.4579e-01, -3.2774e-02],\n",
      "         [-2.3994e-03, -6.8243e-01, -2.1777e-01],\n",
      "         [ 1.3688e-01, -1.2189e-01, -1.3649e-01],\n",
      "         [-4.6825e-02,  3.1640e-01,  2.6467e-02]]])\n"
     ]
    },
    {
     "data": {
      "text/plain": [
       "torch.Size([5, 4])"
      ]
     },
     "execution_count": 22,
     "metadata": {},
     "output_type": "execute_result"
    }
   ],
   "source": [
    "import torch\n",
    "\n",
    "a = torch.tensor([[1,2,3,4,5],\n",
    "             [3,2,1,4,2]])\n",
    "\n",
    "a = torch.randn(5, 3)\n",
    "\n",
    "b = torch.randn(5, 4, 3)\n",
    "\n",
    "a = a.unsqueeze(1)\n",
    "print(a.shape)\n",
    "a = a.repeat(1, 4, 1)\n",
    "print(a.shape)\n",
    "# b = torch.tensor([[1,2,3,4,5]])\n",
    "prd = a * b\n",
    "# prd = torch.inner(b, a)\n",
    "print(prd.shape)\n",
    "print(prd)\n",
    "sum_prd = torch.sum(prd, dim=2)\n",
    "sum_prd.shape"
   ]
  },
  {
   "cell_type": "code",
   "execution_count": 25,
   "metadata": {},
   "outputs": [
    {
     "data": {
      "text/plain": [
       "torch.Size([5, 3])"
      ]
     },
     "execution_count": 25,
     "metadata": {},
     "output_type": "execute_result"
    }
   ],
   "source": [
    "a = torch.randn(5, 3)\n",
    "\n",
    "b = torch.randn(5, 3)\n",
    "\n",
    "(a * b).shape"
   ]
  }
 ],
 "metadata": {
  "kernelspec": {
   "display_name": "base",
   "language": "python",
   "name": "python3"
  },
  "language_info": {
   "codemirror_mode": {
    "name": "ipython",
    "version": 3
   },
   "file_extension": ".py",
   "mimetype": "text/x-python",
   "name": "python",
   "nbconvert_exporter": "python",
   "pygments_lexer": "ipython3",
   "version": "3.9.16"
  },
  "orig_nbformat": 4
 },
 "nbformat": 4,
 "nbformat_minor": 2
}
